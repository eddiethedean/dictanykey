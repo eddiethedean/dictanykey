{
 "cells": [
  {
   "cell_type": "code",
   "execution_count": 1,
   "id": "a5c5600c",
   "metadata": {},
   "outputs": [
    {
     "data": {
      "text/plain": [
       "'/Users/odosmatthews/Library/Mobile Documents/com~apple~CloudDocs/coding/dictanykey/notebooks'"
      ]
     },
     "execution_count": 1,
     "metadata": {},
     "output_type": "execute_result"
    }
   ],
   "source": [
    "%pwd"
   ]
  },
  {
   "cell_type": "code",
   "execution_count": 2,
   "id": "f19ad7d4",
   "metadata": {},
   "outputs": [
    {
     "name": "stdout",
     "output_type": "stream",
     "text": [
      "/Users/odosmatthews/Library/Mobile Documents/com~apple~CloudDocs/coding/dictanykey\n"
     ]
    }
   ],
   "source": [
    "%cd '/Users/odosmatthews/Library/Mobile Documents/com~apple~CloudDocs/coding/dictanykey/'"
   ]
  },
  {
   "cell_type": "code",
   "execution_count": 3,
   "id": "9d5cdc10",
   "metadata": {},
   "outputs": [],
   "source": [
    "import dictanykey"
   ]
  },
  {
   "cell_type": "code",
   "execution_count": 4,
   "id": "fc538329",
   "metadata": {},
   "outputs": [
    {
     "name": "stdout",
     "output_type": "stream",
     "text": [
      "{'1': 'one', 2: 'two', [1, 2]: 'twelve'}\n"
     ]
    }
   ],
   "source": [
    "d = dictanykey.DictAnyKey([(f\"1\", 'one'), (2, 'two'), ([1,2], 'twelve')])\n",
    "print(d)"
   ]
  },
  {
   "cell_type": "code",
   "execution_count": 5,
   "id": "efc413f3",
   "metadata": {},
   "outputs": [],
   "source": [
    "from dictanykey import DictAnyKey"
   ]
  },
  {
   "cell_type": "code",
   "execution_count": 6,
   "id": "38914a30",
   "metadata": {},
   "outputs": [
    {
     "data": {
      "text/plain": [
       "dictanykey.anykey.DictAnyKey"
      ]
     },
     "execution_count": 6,
     "metadata": {},
     "output_type": "execute_result"
    }
   ],
   "source": [
    "DictAnyKey"
   ]
  },
  {
   "cell_type": "code",
   "execution_count": 7,
   "id": "32c841f6",
   "metadata": {},
   "outputs": [
    {
     "name": "stdout",
     "output_type": "stream",
     "text": [
      "Help on class DictAnyKey in module dictanykey.anykey:\n",
      "\n",
      "class DictAnyKey(dictanykey.mapping_mixin.MappingMixin)\n",
      " |  DictAnyKey(data: Optional[Iterable] = None) -> None\n",
      " |  \n",
      " |  A dictionary where the keys don't need to be hashable\n",
      " |  Stores hashable keys with values in _hashmap: dict\n",
      " |  Stores unhashable keys with values in _unhashmap: UnHashMap\n",
      " |  \n",
      " |  Maintains order of items inserted.\n",
      " |  \n",
      " |  Unhashable key lookups are slower than built in dict.\n",
      " |  Hashable key lookups are the same speed as built in dict.\n",
      " |  \n",
      " |  Method resolution order:\n",
      " |      DictAnyKey\n",
      " |      dictanykey.mapping_mixin.MappingMixin\n",
      " |      collections.abc.Mapping\n",
      " |      collections.abc.Collection\n",
      " |      collections.abc.Sized\n",
      " |      collections.abc.Iterable\n",
      " |      collections.abc.Container\n",
      " |      typing.Generic\n",
      " |      builtins.object\n",
      " |  \n",
      " |  Methods defined here:\n",
      " |  \n",
      " |  __contains__(self, value: Any) -> bool\n",
      " |  \n",
      " |  __delitem__(self, key: Any) -> None\n",
      " |  \n",
      " |  __init__(self, data: Optional[Iterable] = None) -> None\n",
      " |      Initialize self.  See help(type(self)) for accurate signature.\n",
      " |  \n",
      " |  __repr__(self) -> str\n",
      " |      Return repr(self).\n",
      " |  \n",
      " |  __setitem__(self, key: Any, value: Any) -> None\n",
      " |  \n",
      " |  get(self, key: Any, default: Optional[Any] = None) -> Any\n",
      " |      D.get(k[,d]) -> D[k] if k in D, else d.  d defaults to None.\n",
      " |  \n",
      " |  items(self) -> dictanykey.iterables.DictItems\n",
      " |      D.items() -> a set-like object providing a view on D's items\n",
      " |  \n",
      " |  keys(self) -> dictanykey.iterables.DictKeys\n",
      " |      D.keys() -> a set-like object providing a view on D's keys\n",
      " |  \n",
      " |  values(self) -> dictanykey.iterables.DictValues\n",
      " |      D.values() -> an object providing a view on D's values\n",
      " |  \n",
      " |  ----------------------------------------------------------------------\n",
      " |  Data and other attributes defined here:\n",
      " |  \n",
      " |  __abstractmethods__ = frozenset()\n",
      " |  \n",
      " |  __parameters__ = ()\n",
      " |  \n",
      " |  ----------------------------------------------------------------------\n",
      " |  Methods inherited from dictanykey.mapping_mixin.MappingMixin:\n",
      " |  \n",
      " |  __eq__(self, other: Mapping) -> bool\n",
      " |      Return self==value.\n",
      " |  \n",
      " |  __getitem__(self, key)\n",
      " |  \n",
      " |  __iter__(self) -> Iterator\n",
      " |  \n",
      " |  __len__(self) -> int\n",
      " |  \n",
      " |  __str__(self) -> str\n",
      " |      Return str(self).\n",
      " |  \n",
      " |  copy(self)\n",
      " |  \n",
      " |  ----------------------------------------------------------------------\n",
      " |  Data descriptors inherited from dictanykey.mapping_mixin.MappingMixin:\n",
      " |  \n",
      " |  __dict__\n",
      " |      dictionary for instance variables (if defined)\n",
      " |  \n",
      " |  __weakref__\n",
      " |      list of weak references to the object (if defined)\n",
      " |  \n",
      " |  ----------------------------------------------------------------------\n",
      " |  Data and other attributes inherited from dictanykey.mapping_mixin.MappingMixin:\n",
      " |  \n",
      " |  __hash__ = None\n",
      " |  \n",
      " |  __orig_bases__ = (typing.Mapping,)\n",
      " |  \n",
      " |  ----------------------------------------------------------------------\n",
      " |  Data and other attributes inherited from collections.abc.Mapping:\n",
      " |  \n",
      " |  __reversed__ = None\n",
      " |  \n",
      " |  ----------------------------------------------------------------------\n",
      " |  Class methods inherited from collections.abc.Collection:\n",
      " |  \n",
      " |  __subclasshook__(C) from abc.ABCMeta\n",
      " |      Abstract classes can override this to customize issubclass().\n",
      " |      \n",
      " |      This is invoked early on by abc.ABCMeta.__subclasscheck__().\n",
      " |      It should return True, False or NotImplemented.  If it returns\n",
      " |      NotImplemented, the normal algorithm is used.  Otherwise, it\n",
      " |      overrides the normal algorithm (and the outcome is cached).\n",
      " |  \n",
      " |  ----------------------------------------------------------------------\n",
      " |  Class methods inherited from collections.abc.Iterable:\n",
      " |  \n",
      " |  __class_getitem__ = GenericAlias(...) from abc.ABCMeta\n",
      " |      Represent a PEP 585 generic type\n",
      " |      \n",
      " |      E.g. for t = list[int], t.__origin__ is list and t.__args__ is (int,).\n",
      " |  \n",
      " |  ----------------------------------------------------------------------\n",
      " |  Class methods inherited from typing.Generic:\n",
      " |  \n",
      " |  __init_subclass__(*args, **kwargs) from abc.ABCMeta\n",
      " |      This method is called when a class is subclassed.\n",
      " |      \n",
      " |      The default implementation does nothing. It may be\n",
      " |      overridden to extend subclasses.\n",
      "\n"
     ]
    }
   ],
   "source": [
    "help(DictAnyKey)"
   ]
  },
  {
   "cell_type": "code",
   "execution_count": 8,
   "id": "be3e743c",
   "metadata": {},
   "outputs": [
    {
     "data": {
      "text/plain": [
       "'\"\\''"
      ]
     },
     "execution_count": 8,
     "metadata": {},
     "output_type": "execute_result"
    }
   ],
   "source": [
    "key = chr(34) + chr(39)\n",
    "key"
   ]
  },
  {
   "cell_type": "code",
   "execution_count": 9,
   "id": "15d14fc8",
   "metadata": {},
   "outputs": [
    {
     "data": {
      "text/plain": [
       "True"
      ]
     },
     "execution_count": 9,
     "metadata": {},
     "output_type": "execute_result"
    }
   ],
   "source": [
    "x = 1 in [1, 2]\n",
    "x"
   ]
  },
  {
   "cell_type": "code",
   "execution_count": 10,
   "id": "be420a0d",
   "metadata": {},
   "outputs": [
    {
     "data": {
      "text/plain": [
       "True"
      ]
     },
     "execution_count": 10,
     "metadata": {},
     "output_type": "execute_result"
    }
   ],
   "source": [
    "DictAnyKey({0: 0, 1: 1, 2: 2}) == {0: 0, 1: 1, 2: 2}"
   ]
  },
  {
   "cell_type": "code",
   "execution_count": 11,
   "id": "a74102a0",
   "metadata": {},
   "outputs": [
    {
     "data": {
      "text/plain": [
       "False"
      ]
     },
     "execution_count": 11,
     "metadata": {},
     "output_type": "execute_result"
    }
   ],
   "source": [
    "{0: 0, 1: 1, 2: 2} == [0, 1, 2]"
   ]
  },
  {
   "cell_type": "code",
   "execution_count": 12,
   "id": "bf8cd1f8",
   "metadata": {},
   "outputs": [
    {
     "data": {
      "text/plain": [
       "True"
      ]
     },
     "execution_count": 12,
     "metadata": {},
     "output_type": "execute_result"
    }
   ],
   "source": [
    "import typing\n",
    "isinstance(DictAnyKey({0: 0, 1: 1, 2: 2}), typing.Mapping)"
   ]
  },
  {
   "cell_type": "code",
   "execution_count": 13,
   "id": "6f421eb0",
   "metadata": {},
   "outputs": [
    {
     "name": "stdout",
     "output_type": "stream",
     "text": [
      "Help on wrapper_descriptor:\n",
      "\n",
      "__eq__(self, value, /)\n",
      "    Return self==value.\n",
      "\n"
     ]
    }
   ],
   "source": [
    "help(dict.__eq__)"
   ]
  },
  {
   "cell_type": "code",
   "execution_count": null,
   "id": "c49afeef",
   "metadata": {},
   "outputs": [],
   "source": []
  }
 ],
 "metadata": {
  "kernelspec": {
   "display_name": "Python 3 (ipykernel)",
   "language": "python",
   "name": "python3"
  },
  "language_info": {
   "codemirror_mode": {
    "name": "ipython",
    "version": 3
   },
   "file_extension": ".py",
   "mimetype": "text/x-python",
   "name": "python",
   "nbconvert_exporter": "python",
   "pygments_lexer": "ipython3",
   "version": "3.10.4"
  }
 },
 "nbformat": 4,
 "nbformat_minor": 5
}
